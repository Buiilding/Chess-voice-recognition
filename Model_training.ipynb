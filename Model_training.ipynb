{
 "cells": [
  {
   "cell_type": "code",
   "execution_count": null,
   "metadata": {
    "colab": {
     "base_uri": "https://localhost:8080/"
    },
    "executionInfo": {
     "elapsed": 4,
     "status": "ok",
     "timestamp": 1685893365918,
     "user": {
      "displayName": "User Buyer",
      "userId": "09440350223830875445"
     },
     "user_tz": -420
    },
    "id": "0gaIPQZTyR0Q",
    "outputId": "927e9672-b86e-4bd8-b1d4-0e1d66d5e43a"
   },
   "outputs": [
    {
     "name": "stdout",
     "output_type": "stream",
     "text": [
      "Sun Jun  4 15:42:44 2023       \n",
      "+-----------------------------------------------------------------------------+\n",
      "| NVIDIA-SMI 525.85.12    Driver Version: 525.85.12    CUDA Version: 12.0     |\n",
      "|-------------------------------+----------------------+----------------------+\n",
      "| GPU  Name        Persistence-M| Bus-Id        Disp.A | Volatile Uncorr. ECC |\n",
      "| Fan  Temp  Perf  Pwr:Usage/Cap|         Memory-Usage | GPU-Util  Compute M. |\n",
      "|                               |                      |               MIG M. |\n",
      "|===============================+======================+======================|\n",
      "|   0  Tesla T4            Off  | 00000000:00:04.0 Off |                    0 |\n",
      "| N/A   38C    P8     9W /  70W |      0MiB / 15360MiB |      0%      Default |\n",
      "|                               |                      |                  N/A |\n",
      "+-------------------------------+----------------------+----------------------+\n",
      "                                                                               \n",
      "+-----------------------------------------------------------------------------+\n",
      "| Processes:                                                                  |\n",
      "|  GPU   GI   CI        PID   Type   Process name                  GPU Memory |\n",
      "|        ID   ID                                                   Usage      |\n",
      "|=============================================================================|\n",
      "|  No running processes found                                                 |\n",
      "+-----------------------------------------------------------------------------+\n"
     ]
    }
   ],
   "source": [
    "#check GPU device\n",
    "!nvidia-smi"
   ]
  },
  {
   "cell_type": "code",
   "execution_count": null,
   "metadata": {
    "colab": {
     "background_save": true,
     "base_uri": "https://localhost:8080/"
    },
    "executionInfo": {
     "elapsed": 18539,
     "status": "ok",
     "timestamp": 1685932523706,
     "user": {
      "displayName": "User Buyer",
      "userId": "09440350223830875445"
     },
     "user_tz": -420
    },
    "id": "a5OICdiE28j_"
   },
   "outputs": [
    {
     "name": "stdout",
     "output_type": "stream",
     "text": [
      "Mounted at /content/drive\n"
     ]
    }
   ],
   "source": [
    "from google.colab import drive\n",
    "drive.mount('/content/drive')"
   ]
  },
  {
   "cell_type": "code",
   "execution_count": null,
   "metadata": {
    "colab": {
     "base_uri": "https://localhost:8080/"
    },
    "executionInfo": {
     "elapsed": 501,
     "status": "ok",
     "timestamp": 1685893386143,
     "user": {
      "displayName": "User Buyer",
      "userId": "09440350223830875445"
     },
     "user_tz": -420
    },
    "id": "zzWtaYy-3CM-",
    "outputId": "db587cda-2225-4d5e-f103-a903c9c27317"
   },
   "outputs": [
    {
     "name": "stdout",
     "output_type": "stream",
     "text": [
      "/content/drive/.shortcut-targets-by-id/1qwXu3FImYcrgP2McJlInlWLrHVHgUa3g/SLC_Project/datasets/500data\n"
     ]
    }
   ],
   "source": [
    "%cd /content/drive/MyDrive/SLC_Project/datasets/500data"
   ]
  },
  {
   "cell_type": "code",
   "execution_count": 1,
   "metadata": {
    "colab": {
     "background_save": true
    },
    "id": "Dc3FDWAlRLES"
   },
   "outputs": [],
   "source": [
    "import os"
   ]
  },
  {
   "cell_type": "code",
   "execution_count": 2,
   "metadata": {
    "id": "0NcjLLZCRE6q"
   },
   "outputs": [],
   "source": [
    "train_path = 'C:/Users/tuana/SLC_PRO/500data_resized/train'"
   ]
  },
  {
   "cell_type": "code",
   "execution_count": 3,
   "metadata": {
    "id": "-KUkCFffRcW0"
   },
   "outputs": [],
   "source": [
    "folders = os.listdir(train_path)"
   ]
  },
  {
   "cell_type": "code",
   "execution_count": 4,
   "metadata": {
    "colab": {
     "base_uri": "https://localhost:8080/"
    },
    "executionInfo": {
     "elapsed": 14048,
     "status": "ok",
     "timestamp": 1685893409935,
     "user": {
      "displayName": "User Buyer",
      "userId": "09440350223830875445"
     },
     "user_tz": -420
    },
    "id": "9Ls6pnl0Q6sL",
    "outputId": "6cada3ae-8f74-43f5-cd71-554fa85c3841"
   },
   "outputs": [
    {
     "name": "stdout",
     "output_type": "stream",
     "text": [
      "C:/Users/tuana/SLC_PRO/500data_resized/train\\0\n",
      "500\n",
      "C:/Users/tuana/SLC_PRO/500data_resized/train\\1\n",
      "500\n",
      "C:/Users/tuana/SLC_PRO/500data_resized/train\\2\n",
      "500\n",
      "C:/Users/tuana/SLC_PRO/500data_resized/train\\3\n",
      "500\n",
      "C:/Users/tuana/SLC_PRO/500data_resized/train\\4\n",
      "500\n",
      "C:/Users/tuana/SLC_PRO/500data_resized/train\\5\n",
      "500\n",
      "C:/Users/tuana/SLC_PRO/500data_resized/train\\6\n",
      "500\n",
      "C:/Users/tuana/SLC_PRO/500data_resized/train\\7\n",
      "500\n",
      "C:/Users/tuana/SLC_PRO/500data_resized/train\\8\n",
      "500\n",
      "C:/Users/tuana/SLC_PRO/500data_resized/train\\9\n",
      "500\n",
      "C:/Users/tuana/SLC_PRO/500data_resized/train\\a\n",
      "500\n",
      "C:/Users/tuana/SLC_PRO/500data_resized/train\\b\n",
      "500\n",
      "C:/Users/tuana/SLC_PRO/500data_resized/train\\bye\n",
      "500\n",
      "C:/Users/tuana/SLC_PRO/500data_resized/train\\c\n",
      "500\n",
      "C:/Users/tuana/SLC_PRO/500data_resized/train\\d\n",
      "500\n",
      "C:/Users/tuana/SLC_PRO/500data_resized/train\\del\n",
      "500\n",
      "C:/Users/tuana/SLC_PRO/500data_resized/train\\e\n",
      "500\n",
      "C:/Users/tuana/SLC_PRO/500data_resized/train\\F\n",
      "500\n",
      "C:/Users/tuana/SLC_PRO/500data_resized/train\\G\n",
      "500\n",
      "C:/Users/tuana/SLC_PRO/500data_resized/train\\good\n",
      "500\n",
      "C:/Users/tuana/SLC_PRO/500data_resized/train\\good morning\n",
      "500\n",
      "C:/Users/tuana/SLC_PRO/500data_resized/train\\H\n",
      "500\n",
      "C:/Users/tuana/SLC_PRO/500data_resized/train\\hello\n",
      "500\n",
      "C:/Users/tuana/SLC_PRO/500data_resized/train\\I\n",
      "500\n",
      "C:/Users/tuana/SLC_PRO/500data_resized/train\\J\n",
      "500\n",
      "C:/Users/tuana/SLC_PRO/500data_resized/train\\K\n",
      "500\n",
      "C:/Users/tuana/SLC_PRO/500data_resized/train\\L\n",
      "500\n",
      "C:/Users/tuana/SLC_PRO/500data_resized/train\\little bit\n",
      "500\n",
      "C:/Users/tuana/SLC_PRO/500data_resized/train\\M\n",
      "500\n",
      "C:/Users/tuana/SLC_PRO/500data_resized/train\\N\n",
      "500\n",
      "C:/Users/tuana/SLC_PRO/500data_resized/train\\no\n",
      "500\n",
      "C:/Users/tuana/SLC_PRO/500data_resized/train\\nothing\n",
      "500\n",
      "C:/Users/tuana/SLC_PRO/500data_resized/train\\NULL\n",
      "500\n",
      "C:/Users/tuana/SLC_PRO/500data_resized/train\\O\n",
      "500\n",
      "C:/Users/tuana/SLC_PRO/500data_resized/train\\P\n",
      "500\n",
      "C:/Users/tuana/SLC_PRO/500data_resized/train\\pardon\n",
      "500\n",
      "C:/Users/tuana/SLC_PRO/500data_resized/train\\please\n",
      "500\n",
      "C:/Users/tuana/SLC_PRO/500data_resized/train\\project\n",
      "500\n",
      "C:/Users/tuana/SLC_PRO/500data_resized/train\\Q\n",
      "500\n",
      "C:/Users/tuana/SLC_PRO/500data_resized/train\\R\n",
      "500\n",
      "C:/Users/tuana/SLC_PRO/500data_resized/train\\S\n",
      "500\n",
      "C:/Users/tuana/SLC_PRO/500data_resized/train\\space\n",
      "500\n",
      "C:/Users/tuana/SLC_PRO/500data_resized/train\\T\n",
      "500\n",
      "C:/Users/tuana/SLC_PRO/500data_resized/train\\U\n",
      "500\n",
      "C:/Users/tuana/SLC_PRO/500data_resized/train\\V\n",
      "500\n",
      "C:/Users/tuana/SLC_PRO/500data_resized/train\\W\n",
      "500\n",
      "C:/Users/tuana/SLC_PRO/500data_resized/train\\whats up\n",
      "500\n",
      "C:/Users/tuana/SLC_PRO/500data_resized/train\\X\n",
      "500\n",
      "C:/Users/tuana/SLC_PRO/500data_resized/train\\Y\n",
      "500\n",
      "C:/Users/tuana/SLC_PRO/500data_resized/train\\yes\n",
      "500\n",
      "C:/Users/tuana/SLC_PRO/500data_resized/train\\Z\n",
      "500\n"
     ]
    }
   ],
   "source": [
    "for f in folders:\n",
    "  sub_path = os.path.join(train_path,f)\n",
    "  print(sub_path)\n",
    "  ims = [x for x in os.listdir(sub_path) if x.lower().endswith('.jpg')]\n",
    "  print(len(ims))"
   ]
  },
  {
   "cell_type": "code",
   "execution_count": null,
   "metadata": {
    "id": "dlIdq8VL_V3o"
   },
   "outputs": [],
   "source": [
    "#!rm -rf /content/drive/MyDrive/SLC_Project/datasets/500data/alldata"
   ]
  },
  {
   "cell_type": "code",
   "execution_count": null,
   "metadata": {
    "id": "_cJBv3nE5qNU"
   },
   "outputs": [],
   "source": [
    "#!unzip -q alldata.zip"
   ]
  },
  {
   "cell_type": "code",
   "execution_count": null,
   "metadata": {
    "id": "ihZYfM3N5j5A"
   },
   "outputs": [],
   "source": [
    "#!unzip -q datasets.zip"
   ]
  },
  {
   "cell_type": "code",
   "execution_count": 5,
   "metadata": {
    "colab": {
     "base_uri": "https://localhost:8080/"
    },
    "executionInfo": {
     "elapsed": 4,
     "status": "ok",
     "timestamp": 1685932523706,
     "user": {
      "displayName": "User Buyer",
      "userId": "09440350223830875445"
     },
     "user_tz": -420
    },
    "id": "Zy23C-pixr4i",
    "outputId": "5a01765a-842a-4758-a1ce-4da96b25273a"
   },
   "outputs": [
    {
     "name": "stdout",
     "output_type": "stream",
     "text": [
      "c:\\Users\\tuana\\SLC_PRO\n"
     ]
    }
   ],
   "source": [
    "import os\n",
    "print(os.getcwd())\n"
   ]
  },
  {
   "cell_type": "code",
   "execution_count": 10,
   "metadata": {},
   "outputs": [],
   "source": [
    "import torch #operated by facebook with a lot of library\n",
    "import torch.nn as nn\n",
    "#import tqdm\n",
    "class Model(nn.Module):\n",
    "    def __init__(self, num_classes = 10 ) :\n",
    "        # super(AlexNet, self). __init__()\n",
    "        super().__init__()\n",
    "        self.conv_1 = nn.Sequential(\n",
    "            nn.Conv2d(3,32,kernel_size = 3 , stride = 1, padding=1),\n",
    "            nn.ReLU())\n",
    "            # nn.MaxPool2d(kernel_size = 2, stride = 2))\n",
    "        self.conv_2 = nn.Sequential(\n",
    "            nn.Conv2d(32,64,kernel_size=3, stride =1 , padding = 1),\n",
    "            # nn.BatchNorm2d(256),\n",
    "            nn.ReLU(),\n",
    "            nn.MaxPool2d(kernel_size = 2, stride = 2))\n",
    "        self.conv_3 = nn.Sequential(\n",
    "            nn.Conv2d(64,64,kernel_size = 3, stride =1 , padding = 1),\n",
    "            # nn.BatchNorm2d(384), \n",
    "            nn.ReLU(),\n",
    "            nn.MaxPool2d(kernel_size = 2, stride = 2))\n",
    "        self.conv_4 = nn.Sequential(\n",
    "            nn.Conv2d(64,128,kernel_size = 3 , stride = 1, padding =1),\n",
    "            # nn.BatchNorm2d(384),\n",
    "            nn.ReLU(),\n",
    "            nn.MaxPool2d(kernel_size = 2, stride =2 ))\n",
    "        self.flatten = nn.Flatten()\n",
    "        self.fc1 =nn. Sequential( \n",
    "            nn.Linear(8192,526),\n",
    "            nn.ReLU(),\n",
    "            nn.Dropout(0.5))\n",
    "        self.fc2 = nn.Sequential(\n",
    "            nn.Linear(526,128),\n",
    "            nn.ReLU(),\n",
    "            nn.Dropout(0.5))\n",
    "        self.fc3= nn.Sequential(\n",
    "            nn.Linear(128, num_classes))\n",
    "        \n",
    "    def forward(self,x):\n",
    "            out = self.conv_1(x)\n",
    "            out = self.conv_2(out)\n",
    "            out = self.conv_3(out)\n",
    "            out = self.conv_4(out)\n",
    "            out = self.flatten(out)\n",
    "            # out = out.reshape(out.size(0), -1 )#flatten\n",
    "            out = self.fc1(out)\n",
    "            out = self.fc2 (out)\n",
    "            out = self.fc3(out)\n",
    "            #out = nn.Softmax(out)\n",
    "            return out\n",
    "def unit_test(b,c,h,w):\n",
    "    model = Model(num_classes = 27)\n",
    "    im_input = torch.randn((b,c,w,h))\n",
    "    out = model(im_input)\n",
    "    print(f'chick qua qua')\n",
    "    return out"
   ]
  },
  {
   "cell_type": "code",
   "execution_count": 11,
   "metadata": {
    "id": "oYRbuL0wBocc"
   },
   "outputs": [],
   "source": [
    "import torch\n",
    "model = Model(num_classes = 51)"
   ]
  },
  {
   "cell_type": "code",
   "execution_count": 12,
   "metadata": {
    "colab": {
     "base_uri": "https://localhost:8080/"
    },
    "executionInfo": {
     "elapsed": 3,
     "status": "ok",
     "timestamp": 1685892244572,
     "user": {
      "displayName": "Bùi Đình Tuấn Anh",
      "userId": "04364186425085514423"
     },
     "user_tz": -420
    },
    "id": "yuaG0KUGC50o",
    "outputId": "0a5f1fe3-463c-4bcb-c958-7f00bc48921f"
   },
   "outputs": [
    {
     "data": {
      "text/plain": [
       "Model(\n",
       "  (conv_1): Sequential(\n",
       "    (0): Conv2d(3, 32, kernel_size=(3, 3), stride=(1, 1), padding=(1, 1))\n",
       "    (1): ReLU()\n",
       "  )\n",
       "  (conv_2): Sequential(\n",
       "    (0): Conv2d(32, 64, kernel_size=(3, 3), stride=(1, 1), padding=(1, 1))\n",
       "    (1): ReLU()\n",
       "    (2): MaxPool2d(kernel_size=2, stride=2, padding=0, dilation=1, ceil_mode=False)\n",
       "  )\n",
       "  (conv_3): Sequential(\n",
       "    (0): Conv2d(64, 64, kernel_size=(3, 3), stride=(1, 1), padding=(1, 1))\n",
       "    (1): ReLU()\n",
       "    (2): MaxPool2d(kernel_size=2, stride=2, padding=0, dilation=1, ceil_mode=False)\n",
       "  )\n",
       "  (conv_4): Sequential(\n",
       "    (0): Conv2d(64, 128, kernel_size=(3, 3), stride=(1, 1), padding=(1, 1))\n",
       "    (1): ReLU()\n",
       "    (2): MaxPool2d(kernel_size=2, stride=2, padding=0, dilation=1, ceil_mode=False)\n",
       "  )\n",
       "  (flatten): Flatten(start_dim=1, end_dim=-1)\n",
       "  (fc1): Sequential(\n",
       "    (0): Linear(in_features=8192, out_features=526, bias=True)\n",
       "    (1): ReLU()\n",
       "    (2): Dropout(p=0.5, inplace=False)\n",
       "  )\n",
       "  (fc2): Sequential(\n",
       "    (0): Linear(in_features=526, out_features=128, bias=True)\n",
       "    (1): ReLU()\n",
       "    (2): Dropout(p=0.5, inplace=False)\n",
       "  )\n",
       "  (fc3): Sequential(\n",
       "    (0): Linear(in_features=128, out_features=51, bias=True)\n",
       "  )\n",
       ")"
      ]
     },
     "execution_count": 12,
     "metadata": {},
     "output_type": "execute_result"
    }
   ],
   "source": [
    "model"
   ]
  },
  {
   "cell_type": "code",
   "execution_count": 14,
   "metadata": {
    "id": "si6isghmC7B-"
   },
   "outputs": [],
   "source": [
    "#create dataloader\n",
    "from torchvision import transforms, datasets\n",
    "\n",
    "train_transform = transforms.Compose((\n",
    "    transforms.Resize(64),\n",
    "    transforms.RandomHorizontalFlip(),\n",
    "    transforms.ToTensor(),\n",
    "    transforms.Normalize(mean=[0.485, 0.456, 0.406],\n",
    "                         std=[0.229, 0.224, 0.225]),)\n",
    ")\n",
    "data_transform = transforms.Compose((\n",
    "    transforms.Resize((64,64)),\n",
    "    transforms.ToTensor(),\n",
    "    transforms.Normalize(mean = [0.485, 0.456 , 0.406],\n",
    "                         std =[0.229, 0.224, 0.225],)\n",
    "))\n",
    "\n",
    "# Intinialize dataset based-on folder path\n",
    "train_dataset = datasets.ImageFolder(root='C:/Users/tuana/SLC_PRO/500data_resized/train', transform = train_transform)\n",
    "# BTVN\n",
    "val_dataset = datasets.ImageFolder(root = 'C:/Users/tuana/SLC_PRO/500data_resized/val', transform = data_transform) #note val doesn't need RandomHorizontalFlip\n",
    "\n",
    "# Dataloader\n",
    "train_loader = torch.utils.data.DataLoader(train_dataset, batch_size=64, shuffle=True, num_workers=2)\n",
    "# BTVN\n",
    "val_loader = torch.utils.data.DataLoader(val_dataset, batch_size = 64, num_workers = 2)\n"
   ]
  },
  {
   "cell_type": "code",
   "execution_count": 15,
   "metadata": {
    "id": "HGJeG7LGOi5R"
   },
   "outputs": [],
   "source": [
    "# Setting device for training\n",
    "device = torch.device('cuda' if torch.cuda.is_available() else 'cpu')"
   ]
  },
  {
   "cell_type": "code",
   "execution_count": 16,
   "metadata": {
    "id": "_lgJidU887br"
   },
   "outputs": [],
   "source": [
    "model = model.to(device)"
   ]
  },
  {
   "cell_type": "code",
   "execution_count": 17,
   "metadata": {
    "id": "XACf7MxiGutP"
   },
   "outputs": [],
   "source": [
    "# Choose Loss function and Optimizer\n",
    "import torch.nn as nn\n",
    "# from torch.optim import optim\n",
    "from torch import optim\n",
    "criterion = nn.CrossEntropyLoss()\n",
    "optimizer = optim.SGD(model.parameters(), lr=0.001, momentum=0.9, weight_decay=1e-4)"
   ]
  },
  {
   "cell_type": "code",
   "execution_count": 18,
   "metadata": {
    "id": "4ieKyiRgXSUs"
   },
   "outputs": [],
   "source": [
    "save_best_model = 'C:/Users/tuana/SLC_PRO/Weights/best.pth'\n",
    "os.makedirs(save_best_model,exist_ok=True)"
   ]
  },
  {
   "cell_type": "code",
   "execution_count": 19,
   "metadata": {
    "id": "RwOySDLfSp-o"
   },
   "outputs": [],
   "source": [
    "from torchvision import transforms, datasets\n",
    "import torch.nn as nn\n",
    "from torch import optim\n",
    "\n",
    "# Evaluation metrics\n",
    "def accuracy(out, labels):\n",
    "  _, pred = torch.max(out, dim=1)\n",
    "  return torch.sum(pred==labels).item()\n",
    "def train(model, num_epochs, optimizer, criterion, train_loader, val_loader, save_path):\n",
    "    # Setting device for training\n",
    "  device = torch.device('cuda' if torch.cuda.is_available() else 'cpu')\n",
    "  model = model.to(device)\n",
    "  # train the model for 10 epochs\n",
    "  best_acc = 0.0\n",
    "  for epoch in range(num_epochs):\n",
    "    model.train()\n",
    "    train_loss = 0\n",
    "    train_correct = 0\n",
    "    for batch_idx, (data, target) in enumerate(train_loader):\n",
    "        # move the data to the device (GPU or CPU)\n",
    "        data, target = data.to(device), target.to(device)\n",
    "\n",
    "        # zero the gradients\n",
    "        optimizer.zero_grad()\n",
    "\n",
    "        # forward pass\n",
    "        output = model(data)\n",
    "\n",
    "        # calculate the loss\n",
    "        loss = criterion(output, target)\n",
    "\n",
    "        # backward pass\n",
    "        loss.backward()\n",
    "        optimizer.step()\n",
    "\n",
    "        # calculate training accuracy and loss\n",
    "        train_loss += loss.item() * data.size(0)\n",
    "        _, predicted = output.max(1)\n",
    "        train_correct += predicted.eq(target).sum().item()\n",
    "        print(f'train_loss {train_loss}')\n",
    "        print(f'train_correct {train_correct}')\n",
    "\n",
    "\n",
    "    # calculate average training accuracy and loss for the epoch\n",
    "    train_loss /= len(train_loader.dataset)\n",
    "    train_acc = train_correct / len(train_loader.dataset)\n",
    "    print(f'train_loss {train_loss}')\n",
    "    print(f'train_acc {train_acc}')\n",
    "    # evaluate the model on the test set\n",
    "    model.eval()\n",
    "    test_loss = 0\n",
    "    test_correct = 0\n",
    "    with torch.no_grad():\n",
    "        for batch_idx, (data, target) in enumerate(val_loader):\n",
    "            # move the data to the device (GPU or CPU)\n",
    "            data, target = data.cuda(), target.cuda()\n",
    "\n",
    "            # forward pass\n",
    "            output = model(data)\n",
    "\n",
    "            # calculate the loss\n",
    "            loss = criterion(output, target)\n",
    "\n",
    "            # calculate test accuracy and loss\n",
    "            test_loss += loss.item() * data.size(0)\n",
    "            _, predicted = output.max(1)\n",
    "            test_correct += predicted.eq(target).sum().item()\n",
    "\n",
    "    # calculate average test accuracy and loss for the epoch\n",
    "    test_loss /= len(val_loader.dataset)\n",
    "    test_acc = test_correct / len(val_loader.dataset)\n",
    "    if test_acc > best_acc:\n",
    "      best_acc = test_acc\n",
    "      torch.save(model.state_dict(), save_path)\n",
    "    # print the results for the epoch\n",
    "    print('Epoch {}/{}: Train Loss: {:.6f}, Train Acc: {:.6f}, Test Loss: {:.6f}, Test Acc: {:.6f}'.format(\n",
    "        epoch+1, num_epochs, train_loss, train_acc, test_loss, test_acc))\n",
    "\n"
   ]
  },
  {
   "cell_type": "code",
   "execution_count": 20,
   "metadata": {
    "colab": {
     "base_uri": "https://localhost:8080/",
     "height": 218
    },
    "executionInfo": {
     "elapsed": 509,
     "status": "error",
     "timestamp": 1685869359883,
     "user": {
      "displayName": "Bùi Đình Tuấn Anh",
      "userId": "04364186425085514423"
     },
     "user_tz": -420
    },
    "id": "-isn7j0RS8jZ",
    "outputId": "4825b240-9bac-4625-b723-b5c865726780"
   },
   "outputs": [
    {
     "name": "stdout",
     "output_type": "stream",
     "text": [
      "train_loss 251.37034606933594\n",
      "train_correct 3\n",
      "train_loss 502.4737854003906\n",
      "train_correct 5\n",
      "train_loss 754.3697204589844\n",
      "train_correct 7\n",
      "train_loss 1006.523681640625\n",
      "train_correct 9\n",
      "train_loss 1258.8030090332031\n",
      "train_correct 11\n",
      "train_loss 1510.8497772216797\n",
      "train_correct 11\n",
      "train_loss 1762.8378295898438\n",
      "train_correct 13\n",
      "train_loss 2014.5082092285156\n",
      "train_correct 13\n",
      "train_loss 2266.4901428222656\n",
      "train_correct 15\n",
      "train_loss 2518.4615478515625\n",
      "train_correct 15\n",
      "train_loss 2769.4379119873047\n",
      "train_correct 16\n",
      "train_loss 3020.2643127441406\n",
      "train_correct 18\n",
      "train_loss 3271.600860595703\n",
      "train_correct 21\n",
      "train_loss 3523.6705474853516\n",
      "train_correct 22\n",
      "train_loss 3775.1038818359375\n",
      "train_correct 24\n",
      "train_loss 4026.074905395508\n",
      "train_correct 25\n",
      "train_loss 4277.450958251953\n",
      "train_correct 30\n",
      "train_loss 4529.610885620117\n",
      "train_correct 30\n",
      "train_loss 4781.427200317383\n",
      "train_correct 31\n"
     ]
    },
    {
     "ename": "KeyboardInterrupt",
     "evalue": "",
     "output_type": "error",
     "traceback": [
      "\u001b[1;31m---------------------------------------------------------------------------\u001b[0m",
      "\u001b[1;31mKeyboardInterrupt\u001b[0m                         Traceback (most recent call last)",
      "\u001b[1;32mc:\\Users\\tuana\\SLC_PRO\\Model_training.ipynb Cell 21\u001b[0m line \u001b[0;36m4\n\u001b[0;32m      <a href='vscode-notebook-cell:/c%3A/Users/tuana/SLC_PRO/Model_training.ipynb#X25sZmlsZQ%3D%3D?line=0'>1</a>\u001b[0m save_best_model \u001b[39m=\u001b[39m \u001b[39m'\u001b[39m\u001b[39m/content/drive/MyDrive/SLC_Project/weights/best.pth\u001b[39m\u001b[39m'\u001b[39m\n\u001b[0;32m      <a href='vscode-notebook-cell:/c%3A/Users/tuana/SLC_PRO/Model_training.ipynb#X25sZmlsZQ%3D%3D?line=2'>3</a>\u001b[0m \u001b[39m# train my model\u001b[39;00m\n\u001b[1;32m----> <a href='vscode-notebook-cell:/c%3A/Users/tuana/SLC_PRO/Model_training.ipynb#X25sZmlsZQ%3D%3D?line=3'>4</a>\u001b[0m x \u001b[39m=\u001b[39m train(model \u001b[39m=\u001b[39;49m model, num_epochs \u001b[39m=\u001b[39;49m \u001b[39m10\u001b[39;49m, optimizer\u001b[39m=\u001b[39;49moptimizer, criterion\u001b[39m=\u001b[39;49mcriterion, train_loader\u001b[39m=\u001b[39;49mtrain_loader, val_loader\u001b[39m=\u001b[39;49mval_loader, save_path\u001b[39m=\u001b[39;49msave_best_model)\n",
      "\u001b[1;32mc:\\Users\\tuana\\SLC_PRO\\Model_training.ipynb Cell 21\u001b[0m line \u001b[0;36m2\n\u001b[0;32m     <a href='vscode-notebook-cell:/c%3A/Users/tuana/SLC_PRO/Model_training.ipynb#X25sZmlsZQ%3D%3D?line=23'>24</a>\u001b[0m optimizer\u001b[39m.\u001b[39mzero_grad()\n\u001b[0;32m     <a href='vscode-notebook-cell:/c%3A/Users/tuana/SLC_PRO/Model_training.ipynb#X25sZmlsZQ%3D%3D?line=25'>26</a>\u001b[0m \u001b[39m# forward pass\u001b[39;00m\n\u001b[1;32m---> <a href='vscode-notebook-cell:/c%3A/Users/tuana/SLC_PRO/Model_training.ipynb#X25sZmlsZQ%3D%3D?line=26'>27</a>\u001b[0m output \u001b[39m=\u001b[39m model(data)\n\u001b[0;32m     <a href='vscode-notebook-cell:/c%3A/Users/tuana/SLC_PRO/Model_training.ipynb#X25sZmlsZQ%3D%3D?line=28'>29</a>\u001b[0m \u001b[39m# calculate the loss\u001b[39;00m\n\u001b[0;32m     <a href='vscode-notebook-cell:/c%3A/Users/tuana/SLC_PRO/Model_training.ipynb#X25sZmlsZQ%3D%3D?line=29'>30</a>\u001b[0m loss \u001b[39m=\u001b[39m criterion(output, target)\n",
      "File \u001b[1;32mc:\\Users\\tuana\\miniconda3\\Lib\\site-packages\\torch\\nn\\modules\\module.py:1501\u001b[0m, in \u001b[0;36mModule._call_impl\u001b[1;34m(self, *args, **kwargs)\u001b[0m\n\u001b[0;32m   1496\u001b[0m \u001b[39m# If we don't have any hooks, we want to skip the rest of the logic in\u001b[39;00m\n\u001b[0;32m   1497\u001b[0m \u001b[39m# this function, and just call forward.\u001b[39;00m\n\u001b[0;32m   1498\u001b[0m \u001b[39mif\u001b[39;00m \u001b[39mnot\u001b[39;00m (\u001b[39mself\u001b[39m\u001b[39m.\u001b[39m_backward_hooks \u001b[39mor\u001b[39;00m \u001b[39mself\u001b[39m\u001b[39m.\u001b[39m_backward_pre_hooks \u001b[39mor\u001b[39;00m \u001b[39mself\u001b[39m\u001b[39m.\u001b[39m_forward_hooks \u001b[39mor\u001b[39;00m \u001b[39mself\u001b[39m\u001b[39m.\u001b[39m_forward_pre_hooks\n\u001b[0;32m   1499\u001b[0m         \u001b[39mor\u001b[39;00m _global_backward_pre_hooks \u001b[39mor\u001b[39;00m _global_backward_hooks\n\u001b[0;32m   1500\u001b[0m         \u001b[39mor\u001b[39;00m _global_forward_hooks \u001b[39mor\u001b[39;00m _global_forward_pre_hooks):\n\u001b[1;32m-> 1501\u001b[0m     \u001b[39mreturn\u001b[39;00m forward_call(\u001b[39m*\u001b[39;49margs, \u001b[39m*\u001b[39;49m\u001b[39m*\u001b[39;49mkwargs)\n\u001b[0;32m   1502\u001b[0m \u001b[39m# Do not call functions when jit is used\u001b[39;00m\n\u001b[0;32m   1503\u001b[0m full_backward_hooks, non_full_backward_hooks \u001b[39m=\u001b[39m [], []\n",
      "\u001b[1;32mc:\\Users\\tuana\\SLC_PRO\\Model_training.ipynb Cell 21\u001b[0m line \u001b[0;36m4\n\u001b[0;32m     <a href='vscode-notebook-cell:/c%3A/Users/tuana/SLC_PRO/Model_training.ipynb#X25sZmlsZQ%3D%3D?line=39'>40</a>\u001b[0m out \u001b[39m=\u001b[39m \u001b[39mself\u001b[39m\u001b[39m.\u001b[39mconv_1(x)\n\u001b[0;32m     <a href='vscode-notebook-cell:/c%3A/Users/tuana/SLC_PRO/Model_training.ipynb#X25sZmlsZQ%3D%3D?line=40'>41</a>\u001b[0m out \u001b[39m=\u001b[39m \u001b[39mself\u001b[39m\u001b[39m.\u001b[39mconv_2(out)\n\u001b[1;32m---> <a href='vscode-notebook-cell:/c%3A/Users/tuana/SLC_PRO/Model_training.ipynb#X25sZmlsZQ%3D%3D?line=41'>42</a>\u001b[0m out \u001b[39m=\u001b[39m \u001b[39mself\u001b[39;49m\u001b[39m.\u001b[39;49mconv_3(out)\n\u001b[0;32m     <a href='vscode-notebook-cell:/c%3A/Users/tuana/SLC_PRO/Model_training.ipynb#X25sZmlsZQ%3D%3D?line=42'>43</a>\u001b[0m out \u001b[39m=\u001b[39m \u001b[39mself\u001b[39m\u001b[39m.\u001b[39mconv_4(out)\n\u001b[0;32m     <a href='vscode-notebook-cell:/c%3A/Users/tuana/SLC_PRO/Model_training.ipynb#X25sZmlsZQ%3D%3D?line=43'>44</a>\u001b[0m out \u001b[39m=\u001b[39m \u001b[39mself\u001b[39m\u001b[39m.\u001b[39mflatten(out)\n",
      "File \u001b[1;32mc:\\Users\\tuana\\miniconda3\\Lib\\site-packages\\torch\\nn\\modules\\module.py:1501\u001b[0m, in \u001b[0;36mModule._call_impl\u001b[1;34m(self, *args, **kwargs)\u001b[0m\n\u001b[0;32m   1496\u001b[0m \u001b[39m# If we don't have any hooks, we want to skip the rest of the logic in\u001b[39;00m\n\u001b[0;32m   1497\u001b[0m \u001b[39m# this function, and just call forward.\u001b[39;00m\n\u001b[0;32m   1498\u001b[0m \u001b[39mif\u001b[39;00m \u001b[39mnot\u001b[39;00m (\u001b[39mself\u001b[39m\u001b[39m.\u001b[39m_backward_hooks \u001b[39mor\u001b[39;00m \u001b[39mself\u001b[39m\u001b[39m.\u001b[39m_backward_pre_hooks \u001b[39mor\u001b[39;00m \u001b[39mself\u001b[39m\u001b[39m.\u001b[39m_forward_hooks \u001b[39mor\u001b[39;00m \u001b[39mself\u001b[39m\u001b[39m.\u001b[39m_forward_pre_hooks\n\u001b[0;32m   1499\u001b[0m         \u001b[39mor\u001b[39;00m _global_backward_pre_hooks \u001b[39mor\u001b[39;00m _global_backward_hooks\n\u001b[0;32m   1500\u001b[0m         \u001b[39mor\u001b[39;00m _global_forward_hooks \u001b[39mor\u001b[39;00m _global_forward_pre_hooks):\n\u001b[1;32m-> 1501\u001b[0m     \u001b[39mreturn\u001b[39;00m forward_call(\u001b[39m*\u001b[39;49margs, \u001b[39m*\u001b[39;49m\u001b[39m*\u001b[39;49mkwargs)\n\u001b[0;32m   1502\u001b[0m \u001b[39m# Do not call functions when jit is used\u001b[39;00m\n\u001b[0;32m   1503\u001b[0m full_backward_hooks, non_full_backward_hooks \u001b[39m=\u001b[39m [], []\n",
      "File \u001b[1;32mc:\\Users\\tuana\\miniconda3\\Lib\\site-packages\\torch\\nn\\modules\\container.py:217\u001b[0m, in \u001b[0;36mSequential.forward\u001b[1;34m(self, input)\u001b[0m\n\u001b[0;32m    215\u001b[0m \u001b[39mdef\u001b[39;00m \u001b[39mforward\u001b[39m(\u001b[39mself\u001b[39m, \u001b[39minput\u001b[39m):\n\u001b[0;32m    216\u001b[0m     \u001b[39mfor\u001b[39;00m module \u001b[39min\u001b[39;00m \u001b[39mself\u001b[39m:\n\u001b[1;32m--> 217\u001b[0m         \u001b[39minput\u001b[39m \u001b[39m=\u001b[39m module(\u001b[39minput\u001b[39;49m)\n\u001b[0;32m    218\u001b[0m     \u001b[39mreturn\u001b[39;00m \u001b[39minput\u001b[39m\n",
      "File \u001b[1;32mc:\\Users\\tuana\\miniconda3\\Lib\\site-packages\\torch\\nn\\modules\\module.py:1501\u001b[0m, in \u001b[0;36mModule._call_impl\u001b[1;34m(self, *args, **kwargs)\u001b[0m\n\u001b[0;32m   1496\u001b[0m \u001b[39m# If we don't have any hooks, we want to skip the rest of the logic in\u001b[39;00m\n\u001b[0;32m   1497\u001b[0m \u001b[39m# this function, and just call forward.\u001b[39;00m\n\u001b[0;32m   1498\u001b[0m \u001b[39mif\u001b[39;00m \u001b[39mnot\u001b[39;00m (\u001b[39mself\u001b[39m\u001b[39m.\u001b[39m_backward_hooks \u001b[39mor\u001b[39;00m \u001b[39mself\u001b[39m\u001b[39m.\u001b[39m_backward_pre_hooks \u001b[39mor\u001b[39;00m \u001b[39mself\u001b[39m\u001b[39m.\u001b[39m_forward_hooks \u001b[39mor\u001b[39;00m \u001b[39mself\u001b[39m\u001b[39m.\u001b[39m_forward_pre_hooks\n\u001b[0;32m   1499\u001b[0m         \u001b[39mor\u001b[39;00m _global_backward_pre_hooks \u001b[39mor\u001b[39;00m _global_backward_hooks\n\u001b[0;32m   1500\u001b[0m         \u001b[39mor\u001b[39;00m _global_forward_hooks \u001b[39mor\u001b[39;00m _global_forward_pre_hooks):\n\u001b[1;32m-> 1501\u001b[0m     \u001b[39mreturn\u001b[39;00m forward_call(\u001b[39m*\u001b[39;49margs, \u001b[39m*\u001b[39;49m\u001b[39m*\u001b[39;49mkwargs)\n\u001b[0;32m   1502\u001b[0m \u001b[39m# Do not call functions when jit is used\u001b[39;00m\n\u001b[0;32m   1503\u001b[0m full_backward_hooks, non_full_backward_hooks \u001b[39m=\u001b[39m [], []\n",
      "File \u001b[1;32mc:\\Users\\tuana\\miniconda3\\Lib\\site-packages\\torch\\nn\\modules\\conv.py:463\u001b[0m, in \u001b[0;36mConv2d.forward\u001b[1;34m(self, input)\u001b[0m\n\u001b[0;32m    462\u001b[0m \u001b[39mdef\u001b[39;00m \u001b[39mforward\u001b[39m(\u001b[39mself\u001b[39m, \u001b[39minput\u001b[39m: Tensor) \u001b[39m-\u001b[39m\u001b[39m>\u001b[39m Tensor:\n\u001b[1;32m--> 463\u001b[0m     \u001b[39mreturn\u001b[39;00m \u001b[39mself\u001b[39;49m\u001b[39m.\u001b[39;49m_conv_forward(\u001b[39minput\u001b[39;49m, \u001b[39mself\u001b[39;49m\u001b[39m.\u001b[39;49mweight, \u001b[39mself\u001b[39;49m\u001b[39m.\u001b[39;49mbias)\n",
      "File \u001b[1;32mc:\\Users\\tuana\\miniconda3\\Lib\\site-packages\\torch\\nn\\modules\\conv.py:459\u001b[0m, in \u001b[0;36mConv2d._conv_forward\u001b[1;34m(self, input, weight, bias)\u001b[0m\n\u001b[0;32m    455\u001b[0m \u001b[39mif\u001b[39;00m \u001b[39mself\u001b[39m\u001b[39m.\u001b[39mpadding_mode \u001b[39m!=\u001b[39m \u001b[39m'\u001b[39m\u001b[39mzeros\u001b[39m\u001b[39m'\u001b[39m:\n\u001b[0;32m    456\u001b[0m     \u001b[39mreturn\u001b[39;00m F\u001b[39m.\u001b[39mconv2d(F\u001b[39m.\u001b[39mpad(\u001b[39minput\u001b[39m, \u001b[39mself\u001b[39m\u001b[39m.\u001b[39m_reversed_padding_repeated_twice, mode\u001b[39m=\u001b[39m\u001b[39mself\u001b[39m\u001b[39m.\u001b[39mpadding_mode),\n\u001b[0;32m    457\u001b[0m                     weight, bias, \u001b[39mself\u001b[39m\u001b[39m.\u001b[39mstride,\n\u001b[0;32m    458\u001b[0m                     _pair(\u001b[39m0\u001b[39m), \u001b[39mself\u001b[39m\u001b[39m.\u001b[39mdilation, \u001b[39mself\u001b[39m\u001b[39m.\u001b[39mgroups)\n\u001b[1;32m--> 459\u001b[0m \u001b[39mreturn\u001b[39;00m F\u001b[39m.\u001b[39;49mconv2d(\u001b[39minput\u001b[39;49m, weight, bias, \u001b[39mself\u001b[39;49m\u001b[39m.\u001b[39;49mstride,\n\u001b[0;32m    460\u001b[0m                 \u001b[39mself\u001b[39;49m\u001b[39m.\u001b[39;49mpadding, \u001b[39mself\u001b[39;49m\u001b[39m.\u001b[39;49mdilation, \u001b[39mself\u001b[39;49m\u001b[39m.\u001b[39;49mgroups)\n",
      "\u001b[1;31mKeyboardInterrupt\u001b[0m: "
     ]
    }
   ],
   "source": [
    "save_best_model = '/content/drive/MyDrive/SLC_Project/weights/best.pth'\n",
    "\n",
    "# train my model\n",
    "x = train(model = model, num_epochs = 10, optimizer=optimizer, criterion=criterion, train_loader=train_loader, val_loader=val_loader, save_path=save_best_model)"
   ]
  },
  {
   "cell_type": "code",
   "execution_count": 3,
   "metadata": {
    "id": "lkHpJCkM5WcA"
   },
   "outputs": [],
   "source": [
    "import torch\n",
    "import torch.nn as nn\n",
    "import torchvision\n",
    "from torchvision import transforms\n",
    "class VGG16(nn.Module):\n",
    "    def __init__(self,num_classes=6):\n",
    "        super(VGG16,self).__init__()\n",
    "        self.layer1= nn.Sequential(\n",
    "            nn.Conv2d(3,64, kernel_size = 3, stride =1 , padding = 1),\n",
    "            nn.BatchNorm2d(64),\n",
    "            nn.ReLU())\n",
    "        self.layer2 = nn.Sequential(\n",
    "            nn.Conv2d(64,64,kernel_size=3, stride =1, padding = 1),\n",
    "            nn.BatchNorm2d(64),\n",
    "            nn.ReLU(),\n",
    "            nn.MaxPool2d(kernel_size = 2, stride =2 ))\n",
    "        self.layer3 = nn.Sequential(\n",
    "            nn.Conv2d(64,128, kernel_size = 3, stride= 1 ,padding=1),\n",
    "            nn.BatchNorm2d(128),\n",
    "            nn.ReLU())\n",
    "        self.layer4 = nn.Sequential(\n",
    "            nn.Conv2d(128,128,kernel_size = 3, stride =1 , padding =1 ),\n",
    "            nn.BatchNorm2d(128),\n",
    "            nn.ReLU(),\n",
    "            nn.MaxPool2d(kernel_size = 2, stride = 2))\n",
    "        self.layer5 = nn.Sequential(\n",
    "            nn.Conv2d(128,256,kernel_size = 3, stride =1 ,padding=1),\n",
    "            nn.BatchNorm2d(256),\n",
    "            nn.ReLU())\n",
    "        self.layer6 = nn.Sequential(\n",
    "            nn.Conv2d(256,256,kernel_size = 3,stride =1 , padding=1),\n",
    "            nn.BatchNorm2d(256),\n",
    "            nn.ReLU())\n",
    "        self.layer7 =nn.Sequential(\n",
    "            nn.Conv2d(256,256,kernel_size= 3 ,stride = 1,padding =1 ),\n",
    "            nn.BatchNorm2d(256),\n",
    "            nn.ReLU(),\n",
    "            nn.MaxPool2d(kernel_size =2, stride= 2))\n",
    "        self.layer8 = nn.Sequential(\n",
    "            nn.Conv2d(256,512,kernel_size =3,stride =1, padding =1),\n",
    "            nn.BatchNorm2d(512),\n",
    "            nn.ReLU())\n",
    "        self.layer9 = nn.Sequential(\n",
    "            nn.Conv2d(512,512,kernel_size=3, stride =1 ,padding =1 ),\n",
    "            nn.BatchNorm2d(512),\n",
    "            nn.ReLU())\n",
    "        self.layer10 = nn.Sequential(\n",
    "            nn.Conv2d(512,512,kernel_size = 3,stride =1, padding =1 ),\n",
    "            nn.BatchNorm2d(512),\n",
    "            nn.ReLU(),\n",
    "            nn.MaxPool2d(kernel_size = 2, stride =2 ))\n",
    "        self.layer11 = nn.Sequential(\n",
    "            nn.Conv2d(512,512,kernel_size= 3, stride =1, padding =1),\n",
    "            nn.BatchNorm2d(512),\n",
    "            nn.ReLU())\n",
    "        self.layer12 = nn.Sequential(\n",
    "            nn.Conv2d(512,512,kernel_size=3, stride =1, padding =1 ),\n",
    "            nn.BatchNorm2d(512),\n",
    "            nn.ReLU())\n",
    "        self.layer13 = nn.Sequential(\n",
    "            nn.Conv2d(512,512,kernel_size = 3, stride =1 , padding =1 ),\n",
    "            nn.BatchNorm2d(512),\n",
    "            nn.ReLU(),\n",
    "            nn.MaxPool2d(kernel_size=2,stride = 2))\n",
    "        self.fc = nn.Sequential(\n",
    "            nn.Dropout(0.5),\n",
    "            nn.Linear(7*7*512, 4096) ,\n",
    "            nn.ReLU())\n",
    "        self.fc1 = nn.Sequential(\n",
    "            nn.Dropout(0.5),\n",
    "            nn.Linear(4096,4096),\n",
    "            nn.ReLU())\n",
    "        self.fc2 = nn.Sequential(\n",
    "            nn.Linear(4096,num_classes))\n",
    "    def forward(self,x):\n",
    "        out= self.layer1(x)\n",
    "        out = self.layer2(out)\n",
    "        out = self.layer3(out)\n",
    "        out= self.layer4(out)\n",
    "        out= self.layer5(out)\n",
    "        out = self.layer6(out)\n",
    "        out= self.layer7(out)\n",
    "        out=self.layer8(out)\n",
    "        out=self.layer9(out)\n",
    "        out=self.layer10(out)\n",
    "        out=self.layer11(out)\n",
    "        out=self.layer12(out)\n",
    "        out=self.layer13(out)\n",
    "        out= out.reshape(out.size(0),-1)\n",
    "        out=self.fc(out)\n",
    "        out= self.fc1(out)\n",
    "        out= self.fc2(out)\n",
    "        return out"
   ]
  },
  {
   "cell_type": "markdown",
   "metadata": {
    "id": "HPDqfN3-DojM"
   },
   "source": [
    "# Inference"
   ]
  },
  {
   "cell_type": "markdown",
   "metadata": {
    "id": "DAkOj60NjerX"
   },
   "source": [
    "## Step 1: Initialize and load weight model"
   ]
  },
  {
   "cell_type": "code",
   "execution_count": 4,
   "metadata": {
    "id": "tGlEg4T8VFoE"
   },
   "outputs": [],
   "source": [
    "import torch\n",
    "import os\n",
    "import matplotlib.pyplot as plt\n",
    "from PIL import Image\n",
    "import torchvision.transforms as transforms\n",
    "import cv2\n",
    "\n",
    "def inference( model, weight_path, im_path, num_class):\n",
    "  model = VGG16(num_classes = num_class)\n",
    "  #intialize device\n",
    "  # check if GPU is available\n",
    "  device = torch.device(\"cuda\" if torch.cuda.is_available() else \"cpu\")\n",
    "  model_statedict = torch.load(weight_path, map_location = 'cpu')\n",
    "  #mapping statedict to model\n",
    "  model.load_state_dict(model_statedict)\n",
    "  #send model to device\n",
    "  model = model.to(device)\n",
    "  # set the model to evaluation mode\n",
    "  model.eval()\n",
    "  image = cv2.imread(image_path)\n",
    "  image_RGB = cv2.cvtColor(image, cv2.COLOR_BGR2RGB)\n",
    "  # display the image\n",
    "  plt.imshow(image_RGB)\n",
    "  image_pil = Image.open(im_path)\n",
    "  data_transform = transforms.Compose((\n",
    "      transforms.Resize(64),\n",
    "      transforms.ToTensor(),\n",
    "      transforms.Normalize(mean = [0.485, 0.456 , 0.406],\n",
    "                          std =[0.229, 0.224, 0.225],)\n",
    "  ))\n",
    "  # Apply the transformations and get the image as a tensor\n",
    "  image_tensor = data_transform(image_pil)\n",
    "  #change 3 dim to 4 dim before inference\n",
    "  im = image_tensor.unsqueeze(0)\n",
    "  # Pass the image through the model\n",
    "  im = im.to(device)\n",
    "  output = model(im)\n",
    "  # apply softmax\n",
    "  output_softmax = torch.softmax(output, dim=1)# because output shape is 1 , 27  which is by column and to calculate column, dim needs to be dim  = 1\n",
    "  # print output\n",
    "  print(output_softmax)\n",
    "  top_k_probs, top_k_classes = torch.topk(output_softmax, k=2)\n",
    "  print(f'top_k_probs : {top_k_probs} /ntop_k_classes : {top_k_classes}')"
   ]
  },
  {
   "cell_type": "code",
   "execution_count": 5,
   "metadata": {
    "id": "kEiOaYfPjdex"
   },
   "outputs": [],
   "source": [
    "import torch\n",
    "import os\n",
    "import matplotlib.pyplot as plt"
   ]
  },
  {
   "cell_type": "code",
   "execution_count": 6,
   "metadata": {
    "id": "Gb4LJOHSmJQP"
   },
   "outputs": [],
   "source": [
    "model = VGG16(num_classes = 6)"
   ]
  },
  {
   "cell_type": "code",
   "execution_count": 7,
   "metadata": {
    "id": "-kuM6RTumKNr"
   },
   "outputs": [
    {
     "name": "stderr",
     "output_type": "stream",
     "text": [
      "C:\\Users\\peter\\AppData\\Local\\Temp\\ipykernel_3784\\1926428952.py:8: FutureWarning: You are using `torch.load` with `weights_only=False` (the current default value), which uses the default pickle module implicitly. It is possible to construct malicious pickle data which will execute arbitrary code during unpickling (See https://github.com/pytorch/pytorch/blob/main/SECURITY.md#untrusted-models for more details). In a future release, the default value for `weights_only` will be flipped to `True`. This limits the functions that could be executed during unpickling. Arbitrary objects will no longer be allowed to be loaded via this mode unless they are explicitly allowlisted by the user via `torch.serialization.add_safe_globals`. We recommend you start setting `weights_only=True` for any use case where you don't have full control of the loaded file. Please open an issue on GitHub for any issues related to this experimental feature.\n",
      "  model_statedict = torch.load(weight_path, map_location = 'cpu')\n"
     ]
    },
    {
     "data": {
      "text/plain": [
       "VGG16(\n",
       "  (layer1): Sequential(\n",
       "    (0): Conv2d(3, 64, kernel_size=(3, 3), stride=(1, 1), padding=(1, 1))\n",
       "    (1): BatchNorm2d(64, eps=1e-05, momentum=0.1, affine=True, track_running_stats=True)\n",
       "    (2): ReLU()\n",
       "  )\n",
       "  (layer2): Sequential(\n",
       "    (0): Conv2d(64, 64, kernel_size=(3, 3), stride=(1, 1), padding=(1, 1))\n",
       "    (1): BatchNorm2d(64, eps=1e-05, momentum=0.1, affine=True, track_running_stats=True)\n",
       "    (2): ReLU()\n",
       "    (3): MaxPool2d(kernel_size=2, stride=2, padding=0, dilation=1, ceil_mode=False)\n",
       "  )\n",
       "  (layer3): Sequential(\n",
       "    (0): Conv2d(64, 128, kernel_size=(3, 3), stride=(1, 1), padding=(1, 1))\n",
       "    (1): BatchNorm2d(128, eps=1e-05, momentum=0.1, affine=True, track_running_stats=True)\n",
       "    (2): ReLU()\n",
       "  )\n",
       "  (layer4): Sequential(\n",
       "    (0): Conv2d(128, 128, kernel_size=(3, 3), stride=(1, 1), padding=(1, 1))\n",
       "    (1): BatchNorm2d(128, eps=1e-05, momentum=0.1, affine=True, track_running_stats=True)\n",
       "    (2): ReLU()\n",
       "    (3): MaxPool2d(kernel_size=2, stride=2, padding=0, dilation=1, ceil_mode=False)\n",
       "  )\n",
       "  (layer5): Sequential(\n",
       "    (0): Conv2d(128, 256, kernel_size=(3, 3), stride=(1, 1), padding=(1, 1))\n",
       "    (1): BatchNorm2d(256, eps=1e-05, momentum=0.1, affine=True, track_running_stats=True)\n",
       "    (2): ReLU()\n",
       "  )\n",
       "  (layer6): Sequential(\n",
       "    (0): Conv2d(256, 256, kernel_size=(3, 3), stride=(1, 1), padding=(1, 1))\n",
       "    (1): BatchNorm2d(256, eps=1e-05, momentum=0.1, affine=True, track_running_stats=True)\n",
       "    (2): ReLU()\n",
       "  )\n",
       "  (layer7): Sequential(\n",
       "    (0): Conv2d(256, 256, kernel_size=(3, 3), stride=(1, 1), padding=(1, 1))\n",
       "    (1): BatchNorm2d(256, eps=1e-05, momentum=0.1, affine=True, track_running_stats=True)\n",
       "    (2): ReLU()\n",
       "    (3): MaxPool2d(kernel_size=2, stride=2, padding=0, dilation=1, ceil_mode=False)\n",
       "  )\n",
       "  (layer8): Sequential(\n",
       "    (0): Conv2d(256, 512, kernel_size=(3, 3), stride=(1, 1), padding=(1, 1))\n",
       "    (1): BatchNorm2d(512, eps=1e-05, momentum=0.1, affine=True, track_running_stats=True)\n",
       "    (2): ReLU()\n",
       "  )\n",
       "  (layer9): Sequential(\n",
       "    (0): Conv2d(512, 512, kernel_size=(3, 3), stride=(1, 1), padding=(1, 1))\n",
       "    (1): BatchNorm2d(512, eps=1e-05, momentum=0.1, affine=True, track_running_stats=True)\n",
       "    (2): ReLU()\n",
       "  )\n",
       "  (layer10): Sequential(\n",
       "    (0): Conv2d(512, 512, kernel_size=(3, 3), stride=(1, 1), padding=(1, 1))\n",
       "    (1): BatchNorm2d(512, eps=1e-05, momentum=0.1, affine=True, track_running_stats=True)\n",
       "    (2): ReLU()\n",
       "    (3): MaxPool2d(kernel_size=2, stride=2, padding=0, dilation=1, ceil_mode=False)\n",
       "  )\n",
       "  (layer11): Sequential(\n",
       "    (0): Conv2d(512, 512, kernel_size=(3, 3), stride=(1, 1), padding=(1, 1))\n",
       "    (1): BatchNorm2d(512, eps=1e-05, momentum=0.1, affine=True, track_running_stats=True)\n",
       "    (2): ReLU()\n",
       "  )\n",
       "  (layer12): Sequential(\n",
       "    (0): Conv2d(512, 512, kernel_size=(3, 3), stride=(1, 1), padding=(1, 1))\n",
       "    (1): BatchNorm2d(512, eps=1e-05, momentum=0.1, affine=True, track_running_stats=True)\n",
       "    (2): ReLU()\n",
       "  )\n",
       "  (layer13): Sequential(\n",
       "    (0): Conv2d(512, 512, kernel_size=(3, 3), stride=(1, 1), padding=(1, 1))\n",
       "    (1): BatchNorm2d(512, eps=1e-05, momentum=0.1, affine=True, track_running_stats=True)\n",
       "    (2): ReLU()\n",
       "    (3): MaxPool2d(kernel_size=2, stride=2, padding=0, dilation=1, ceil_mode=False)\n",
       "  )\n",
       "  (fc): Sequential(\n",
       "    (0): Dropout(p=0.5, inplace=False)\n",
       "    (1): Linear(in_features=25088, out_features=4096, bias=True)\n",
       "    (2): ReLU()\n",
       "  )\n",
       "  (fc1): Sequential(\n",
       "    (0): Dropout(p=0.5, inplace=False)\n",
       "    (1): Linear(in_features=4096, out_features=4096, bias=True)\n",
       "    (2): ReLU()\n",
       "  )\n",
       "  (fc2): Sequential(\n",
       "    (0): Linear(in_features=4096, out_features=6, bias=True)\n",
       "  )\n",
       ")"
      ]
     },
     "execution_count": 7,
     "metadata": {},
     "output_type": "execute_result"
    }
   ],
   "source": [
    "#intialize device\n",
    "# check if GPU is available\n",
    "device = torch.device(\"cuda\" if torch.cuda.is_available() else \"cpu\")\n",
    "#model = model.to(device)\n",
    "#define weights path\n",
    "weight_path = 'C:/Users/peter/Github/Chess-voice-recognition/weights/White_detection.pth'\n",
    "#load weight path\n",
    "model_statedict = torch.load(weight_path, map_location = 'cpu')\n",
    "#mapping statedict to model\n",
    "model.load_state_dict(model_statedict)\n",
    "#send model to device\n",
    "model = model.to(device)\n",
    "# set the model to evaluation mode\n",
    "model.eval()\n",
    "\n",
    "\n"
   ]
  },
  {
   "cell_type": "code",
   "execution_count": 8,
   "metadata": {
    "id": "GGU3HYJnrbFv"
   },
   "outputs": [
    {
     "data": {
      "text/plain": [
       "<matplotlib.image.AxesImage at 0x1a127338100>"
      ]
     },
     "execution_count": 8,
     "metadata": {},
     "output_type": "execute_result"
    },
    {
     "data": {
      "image/png": "[encoded data removed]",
      "text/plain": [
       "<Figure size 640x480 with 1 Axes>"
      ]
     },
     "metadata": {},
     "output_type": "display_data"
    }
   ],
   "source": [
    "import cv2\n",
    "# load the image\n",
    "image = cv2.imread(\"C:/Users/peter/Github/Chess-voice-recognition/test_images/test5.png\")\n",
    "image_RGB = cv2.cvtColor(image, cv2.COLOR_BGR2RGB)\n",
    "\n",
    "# display the image\n",
    "plt.imshow(image_RGB)"
   ]
  },
  {
   "cell_type": "markdown",
   "metadata": {
    "id": "HMQ9f1c1tpOp"
   },
   "source": [
    "## Preprocessing image"
   ]
  },
  {
   "cell_type": "code",
   "execution_count": 9,
   "metadata": {
    "id": "yyiAIZaWtndn"
   },
   "outputs": [],
   "source": [
    "from PIL import Image\n",
    "import torchvision.transforms as transforms"
   ]
  },
  {
   "cell_type": "code",
   "execution_count": 10,
   "metadata": {},
   "outputs": [
    {
     "name": "stdout",
     "output_type": "stream",
     "text": [
      "Image converted to RGB.\n",
      "Image shape is : torch.Size([1, 3, 224, 224])\n",
      "image size is : (94, 88) \n",
      "output_softmax : tensor([[0.0330, 0.0321, 0.0792, 0.1545, 0.0252, 0.6760]],\n",
      "       grad_fn=<SoftmaxBackward0>)\n",
      "top_k_probs : tensor([[0.6760]], grad_fn=<TopkBackward0>)\n",
      "top_k_classes : tensor([[5]])\n"
     ]
    },
    {
     "data": {
      "text/plain": [
       "'Black_rook'"
      ]
     },
     "execution_count": 10,
     "metadata": {},
     "output_type": "execute_result"
    }
   ],
   "source": [
    "im_path = 'C:/Users/peter/Github/Chess-voice-recognition/test_images/test5.png'\n",
    "# Load the image using PIL\n",
    "image_pil = Image.open(im_path)\n",
    "if image_pil.mode != 'RGB':\n",
    "    image = image_pil.convert('RGB')\n",
    "    print(\"Image converted to RGB.\")\n",
    "transform = transforms.Compose([\n",
    "    transforms.Resize((224, 224)),  # Resize images to 224x224\n",
    "    transforms.ToTensor(),  # Convert images to PyTorch tensors\n",
    "    transforms.Normalize(mean=[0.485, 0.456, 0.406],  # Normalize with mean and std of ImageNet\n",
    "                         std=[0.229, 0.224, 0.225])\n",
    "])\n",
    "# Apply the transformations and get the image as a tensor\n",
    "image_tensor = transform(image)\n",
    "#change 3 dim to 4 dim before inference\n",
    "im = image_tensor.unsqueeze(0)\n",
    "print(f'Image shape is : {im.shape}')\n",
    "print(f'image size is : {image_pil.size} ')\n",
    "# Pass the image through the model\n",
    "im = im.to(device)\n",
    "output = model(im)\n",
    "# apply softmax\n",
    "output_softmax = torch.softmax(output, dim=1)# because output shape is 1 , 27  which is by column and to calculate column, dim needs to be dim  = 1\n",
    "# print output\n",
    "print(f'output_softmax : {output_softmax}')\n",
    "names = ['Black_bishop',\n",
    " 'Black_king',\n",
    " 'Black_knight',\n",
    " 'Black_pawn',\n",
    " 'Black_queen',\n",
    " 'Black_rook']\n",
    "top_k_probs, top_k_classes = torch.topk(output_softmax, k=1)\n",
    "print(f'top_k_probs : {top_k_probs}')\n",
    "print(f'top_k_classes : {top_k_classes}')\n",
    "predicted_class = names[top_k_classes[0]]\n",
    "predicted_class\n"
   ]
  },
  {
   "cell_type": "code",
   "execution_count": null,
   "metadata": {},
   "outputs": [],
   "source": []
  }
 ],
 "metadata": {
  "accelerator": "GPU",
  "colab": {
   "name": "",
   "version": ""
  },
  "kernelspec": {
   "display_name": "Python 3 (ipykernel)",
   "language": "python",
   "name": "python3"
  },
  "language_info": {
   "codemirror_mode": {
    "name": "ipython",
    "version": 3
   },
   "file_extension": ".py",
   "mimetype": "text/x-python",
   "name": "python",
   "nbconvert_exporter": "python",
   "pygments_lexer": "ipython3",
   "version": "3.8.0"
  }
 },
 "nbformat": 4,
 "nbformat_minor": 4
}
