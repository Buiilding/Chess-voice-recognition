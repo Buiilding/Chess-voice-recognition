{
 "cells": [
  {
   "cell_type": "code",
   "execution_count": 1,
   "metadata": {
    "scrolled": true
   },
   "outputs": [
    {
     "name": "stdout",
     "output_type": "stream",
     "text": [
      "Requirement already satisfied: torch in c:\\users\\peter\\anaconda3\\envs\\three_eight\\lib\\site-packages (2.4.0)\n",
      "Requirement already satisfied: torchvision in c:\\users\\peter\\anaconda3\\envs\\three_eight\\lib\\site-packages (0.19.0)\n",
      "Requirement already satisfied: filelock in c:\\users\\peter\\anaconda3\\envs\\three_eight\\lib\\site-packages (from torch) (3.15.4)\n",
      "Requirement already satisfied: typing-extensions>=4.8.0 in c:\\users\\peter\\anaconda3\\envs\\three_eight\\lib\\site-packages (from torch) (4.12.2)\n",
      "Requirement already satisfied: sympy in c:\\users\\peter\\anaconda3\\envs\\three_eight\\lib\\site-packages (from torch) (1.13.2)\n",
      "Requirement already satisfied: networkx in c:\\users\\peter\\anaconda3\\envs\\three_eight\\lib\\site-packages (from torch) (3.1)\n",
      "Requirement already satisfied: jinja2 in c:\\users\\peter\\anaconda3\\envs\\three_eight\\lib\\site-packages (from torch) (3.1.4)\n",
      "Requirement already satisfied: fsspec in c:\\users\\peter\\anaconda3\\envs\\three_eight\\lib\\site-packages (from torch) (2024.6.1)\n",
      "Requirement already satisfied: numpy<2 in c:\\users\\peter\\anaconda3\\envs\\three_eight\\lib\\site-packages (from torchvision) (1.24.4)\n",
      "Requirement already satisfied: pillow!=8.3.*,>=5.3.0 in c:\\users\\peter\\anaconda3\\envs\\three_eight\\lib\\site-packages (from torchvision) (10.4.0)\n",
      "Requirement already satisfied: MarkupSafe>=2.0 in c:\\users\\peter\\anaconda3\\envs\\three_eight\\lib\\site-packages (from jinja2->torch) (2.1.5)\n",
      "Requirement already satisfied: mpmath<1.4,>=1.1.0 in c:\\users\\peter\\anaconda3\\envs\\three_eight\\lib\\site-packages (from sympy->torch) (1.3.0)\n"
     ]
    }
   ],
   "source": [
    "!pip install torch torchvision\n"
   ]
  },
  {
   "cell_type": "code",
   "execution_count": 1,
   "metadata": {
    "executionInfo": {
     "elapsed": 2,
     "status": "ok",
     "timestamp": 1681013413614,
     "user": {
      "displayName": "tuan anh bui",
      "userId": "09233074948209434523"
     },
     "user_tz": -420
    },
    "id": "1NJOA5_DWwxh"
   },
   "outputs": [],
   "source": [
    "import torch\n",
    "import torch.nn as nn\n",
    "import torchvision\n",
    "from torchvision import transforms"
   ]
  },
  {
   "cell_type": "code",
   "execution_count": 2,
   "metadata": {
    "executionInfo": {
     "elapsed": 2,
     "status": "ok",
     "timestamp": 1681014066932,
     "user": {
      "displayName": "tuan anh bui",
      "userId": "09233074948209434523"
     },
     "user_tz": -420
    },
    "id": "P-4NysMVPwBx"
   },
   "outputs": [],
   "source": [
    "import os"
   ]
  },
  {
   "cell_type": "code",
   "execution_count": 3,
   "metadata": {
    "executionInfo": {
     "elapsed": 2,
     "status": "ok",
     "timestamp": 1681013416029,
     "user": {
      "displayName": "tuan anh bui",
      "userId": "09233074948209434523"
     },
     "user_tz": -420
    },
    "id": "oxbPU6zpaAFy"
   },
   "outputs": [],
   "source": [
    "\n",
    "# Define the transform for preprocessing the images\n",
    "transform = transforms.Compose([\n",
    "    transforms.Resize((224, 224)),  # Resize images to 224x224\n",
    "    transforms.ToTensor(),  # Convert images to PyTorch tensors\n",
    "    transforms.Normalize(mean=[0.485, 0.456, 0.406],  # Normalize with mean and std of ImageNet\n",
    "                         std=[0.229, 0.224, 0.225])\n",
    "])\n",
    "\n",
    "# Load the training dataset\n",
    "train_dataset = torchvision.datasets.ImageFolder(\n",
    "    root=r'C:\\Users\\peter\\Github\\Chess-voice-recognition\\Data_2\\Black\\train', \n",
    "    transform=transform\n",
    ")\n",
    "train_loader = torch.utils.data.DataLoader(train_dataset, batch_size=64, shuffle=True)\n",
    "\n",
    "# Load the validation/test dataset\n",
    "test_dataset = torchvision.datasets.ImageFolder(\n",
    "    root=r'C:\\Users\\peter\\Github\\Chess-voice-recognition\\Data_2\\Black\\val', \n",
    "    transform=transform\n",
    ")\n",
    "test_loader = torch.utils.data.DataLoader(test_dataset, batch_size=64, shuffle=False)\n"
   ]
  },
  {
   "cell_type": "code",
   "execution_count": 4,
   "metadata": {
    "executionInfo": {
     "elapsed": 736,
     "status": "ok",
     "timestamp": 1681013504663,
     "user": {
      "displayName": "tuan anh bui",
      "userId": "09233074948209434523"
     },
     "user_tz": -420
    },
    "id": "rfDTjyJFV1oq"
   },
   "outputs": [],
   "source": [
    "class VGG16(nn.Module):\n",
    "    def __init__(self,num_classes=27):\n",
    "        super(VGG16,self).__init__()\n",
    "        self.layer1= nn.Sequential(\n",
    "            nn.Conv2d(3,64, kernel_size = 3, stride =1 , padding = 1),\n",
    "            nn.BatchNorm2d(64),\n",
    "            nn.ReLU())\n",
    "        self.layer2 = nn.Sequential(\n",
    "            nn.Conv2d(64,64,kernel_size=3, stride =1, padding = 1),\n",
    "            nn.BatchNorm2d(64),\n",
    "            nn.ReLU(),\n",
    "            nn.MaxPool2d(kernel_size = 2, stride =2 ))\n",
    "        self.layer3 = nn.Sequential(\n",
    "            nn.Conv2d(64,128, kernel_size = 3, stride= 1 ,padding=1),\n",
    "            nn.BatchNorm2d(128),\n",
    "            nn.ReLU())\n",
    "        self.layer4 = nn.Sequential(\n",
    "            nn.Conv2d(128,128,kernel_size = 3, stride =1 , padding =1 ),\n",
    "            nn.BatchNorm2d(128),\n",
    "            nn.ReLU(),\n",
    "            nn.MaxPool2d(kernel_size = 2, stride = 2))\n",
    "        self.layer5 = nn.Sequential(\n",
    "            nn.Conv2d(128,256,kernel_size = 3, stride =1 ,padding=1),\n",
    "            nn.BatchNorm2d(256),\n",
    "            nn.ReLU())\n",
    "        self.layer6 = nn.Sequential(\n",
    "            nn.Conv2d(256,256,kernel_size = 3,stride =1 , padding=1),\n",
    "            nn.BatchNorm2d(256),\n",
    "            nn.ReLU())\n",
    "        self.layer7 =nn.Sequential(\n",
    "            nn.Conv2d(256,256,kernel_size= 3 ,stride = 1,padding =1 ),\n",
    "            nn.BatchNorm2d(256),\n",
    "            nn.ReLU(),\n",
    "            nn.MaxPool2d(kernel_size =2, stride= 2))\n",
    "        self.layer8 = nn.Sequential(\n",
    "            nn.Conv2d(256,512,kernel_size =3,stride =1, padding =1),\n",
    "            nn.BatchNorm2d(512),\n",
    "            nn.ReLU())\n",
    "        self.layer9 = nn.Sequential(\n",
    "            nn.Conv2d(512,512,kernel_size=3, stride =1 ,padding =1 ),\n",
    "            nn.BatchNorm2d(512),\n",
    "            nn.ReLU())\n",
    "        self.layer10 = nn.Sequential(\n",
    "            nn.Conv2d(512,512,kernel_size = 3,stride =1, padding =1 ),\n",
    "            nn.BatchNorm2d(512),\n",
    "            nn.ReLU(),\n",
    "            nn.MaxPool2d(kernel_size = 2, stride =2 ))\n",
    "        self.layer11 = nn.Sequential(\n",
    "            nn.Conv2d(512,512,kernel_size= 3, stride =1, padding =1),\n",
    "            nn.BatchNorm2d(512),\n",
    "            nn.ReLU())\n",
    "        self.layer12 = nn.Sequential(\n",
    "            nn.Conv2d(512,512,kernel_size=3, stride =1, padding =1 ),\n",
    "            nn.BatchNorm2d(512),\n",
    "            nn.ReLU())\n",
    "        self.layer13 = nn.Sequential(\n",
    "            nn.Conv2d(512,512,kernel_size = 3, stride =1 , padding =1 ),\n",
    "            nn.BatchNorm2d(512),\n",
    "            nn.ReLU(),\n",
    "            nn.MaxPool2d(kernel_size=2,stride = 2))\n",
    "        self.fc = nn.Sequential(\n",
    "            nn.Dropout(0.5),\n",
    "            nn.Linear(7*7*512, 4096) ,\n",
    "            nn.ReLU())\n",
    "        self.fc1 = nn.Sequential(\n",
    "            nn.Dropout(0.5),\n",
    "            nn.Linear(4096,4096),\n",
    "            nn.ReLU())\n",
    "        self.fc2 = nn.Sequential(\n",
    "            nn.Linear(4096,num_classes))\n",
    "    def forward(self,x):\n",
    "        out= self.layer1(x)\n",
    "        out = self.layer2(out)\n",
    "        out = self.layer3(out)\n",
    "        out= self.layer4(out)\n",
    "        out= self.layer5(out)\n",
    "        out = self.layer6(out)\n",
    "        out= self.layer7(out)\n",
    "        out=self.layer8(out)\n",
    "        out=self.layer9(out)\n",
    "        out=self.layer10(out)\n",
    "        out=self.layer11(out)\n",
    "        out=self.layer12(out)\n",
    "        out=self.layer13(out)\n",
    "        out= out.reshape(out.size(0),-1)\n",
    "        out=self.fc(out)\n",
    "        out= self.fc1(out)\n",
    "        out= self.fc2(out)\n",
    "        return out"
   ]
  },
  {
   "cell_type": "code",
   "execution_count": 5,
   "metadata": {
    "executionInfo": {
     "elapsed": 1404,
     "status": "ok",
     "timestamp": 1681013637984,
     "user": {
      "displayName": "tuan anh bui",
      "userId": "09233074948209434523"
     },
     "user_tz": -420
    },
    "id": "cHW8kUvoNlSC"
   },
   "outputs": [],
   "source": [
    "model = VGG16(num_classes = 6)"
   ]
  },
  {
   "cell_type": "code",
   "execution_count": 6,
   "metadata": {
    "executionInfo": {
     "elapsed": 1,
     "status": "ok",
     "timestamp": 1681013639503,
     "user": {
      "displayName": "tuan anh bui",
      "userId": "09233074948209434523"
     },
     "user_tz": -420
    },
    "id": "CVFZeHBUM7PX"
   },
   "outputs": [],
   "source": [
    "import torch.nn as nn\n",
    "# from torch.optim import optim\n",
    "from torch import optim\n",
    "criterion = nn.CrossEntropyLoss()\n",
    "optimizer = optim.SGD(model.parameters(), lr=0.001, momentum=0.9, weight_decay=1e-4)"
   ]
  },
  {
   "cell_type": "code",
   "execution_count": 7,
   "metadata": {
    "executionInfo": {
     "elapsed": 2,
     "status": "ok",
     "timestamp": 1681013641885,
     "user": {
      "displayName": "tuan anh bui",
      "userId": "09233074948209434523"
     },
     "user_tz": -420
    },
    "id": "cQlLmftJM9ru"
   },
   "outputs": [],
   "source": [
    "def accuracy(out, labels):\n",
    "  _, pred = torch.max(out, dim=1)\n",
    "  return torch.sum(pred==labels).item()"
   ]
  },
  {
   "cell_type": "code",
   "execution_count": 8,
   "metadata": {
    "executionInfo": {
     "elapsed": 2,
     "status": "ok",
     "timestamp": 1681013643543,
     "user": {
      "displayName": "tuan anh bui",
      "userId": "09233074948209434523"
     },
     "user_tz": -420
    },
    "id": "mwsA6WeKM_I_"
   },
   "outputs": [],
   "source": [
    "device = torch.device('cuda' if torch.cuda.is_available() else 'cpu')"
   ]
  },
  {
   "cell_type": "code",
   "execution_count": 9,
   "metadata": {
    "executionInfo": {
     "elapsed": 617,
     "status": "ok",
     "timestamp": 1681013645332,
     "user": {
      "displayName": "tuan anh bui",
      "userId": "09233074948209434523"
     },
     "user_tz": -420
    },
    "id": "O-2ZJFZVNA1r"
   },
   "outputs": [],
   "source": [
    "model = model.to(device)"
   ]
  },
  {
   "cell_type": "code",
   "execution_count": 10,
   "metadata": {
    "colab": {
     "base_uri": "https://localhost:8080/"
    },
    "executionInfo": {
     "elapsed": 1309,
     "status": "ok",
     "timestamp": 1681014014315,
     "user": {
      "displayName": "tuan anh bui",
      "userId": "09233074948209434523"
     },
     "user_tz": -420
    },
    "id": "sTMTvS47Phlm",
    "outputId": "0e5ce7a7-b842-4de9-90a4-8d204549669d"
   },
   "outputs": [
    {
     "data": {
      "text/plain": [
       "5"
      ]
     },
     "execution_count": 10,
     "metadata": {},
     "output_type": "execute_result"
    }
   ],
   "source": [
    "len(train_loader)"
   ]
  },
  {
   "cell_type": "code",
   "execution_count": null,
   "metadata": {
    "colab": {
     "base_uri": "https://localhost:8080/",
     "height": 397
    },
    "executionInfo": {
     "elapsed": 351407,
     "status": "error",
     "timestamp": 1681013999361,
     "user": {
      "displayName": "tuan anh bui",
      "userId": "09233074948209434523"
     },
     "user_tz": -420
    },
    "id": "dwZdhdf1uAob",
    "outputId": "64c4a7fc-ba53-4985-a159-107d96c124ad"
   },
   "outputs": [
    {
     "name": "stdout",
     "output_type": "stream",
     "text": [
      "Epoch [1/5] Batch [0/5] Train Loss: 118.170837\n",
      "Epoch [1/5] Training Loss: 1.708001, Training Accuracy: 0.343333\n",
      "Epoch [1/5] Test Loss: 1.791784, Test Accuracy: 0.166667\n"
     ]
    }
   ],
   "source": [
    "import torch\n",
    "\n",
    "save_best_model = r'C:/Users/peter/Github/Chess-voice-recognition/weights/weights.pth'\n",
    "num_epochs = 5\n",
    "best_acc = 0.0\n",
    "\n",
    "for epoch in range(num_epochs):\n",
    "    model.train()\n",
    "    train_loss = 0\n",
    "    train_correct = 0\n",
    "\n",
    "    for batch_idx, (data, target) in enumerate(train_loader):\n",
    "        # move the data to the device (GPU or CPU)\n",
    "        data, target = data.to(device), target.to(device)\n",
    "\n",
    "        # zero the gradients\n",
    "        optimizer.zero_grad()\n",
    "\n",
    "        # forward pass\n",
    "        output = model(data)\n",
    "\n",
    "        # calculate the loss\n",
    "        loss = criterion(output, target)\n",
    "\n",
    "        # backward pass\n",
    "        loss.backward()\n",
    "        optimizer.step()\n",
    "\n",
    "        # accumulate training accuracy and loss\n",
    "        train_loss += loss.item() * data.size(0)\n",
    "        _, predicted = output.max(1)\n",
    "        train_correct += predicted.eq(target).sum().item()\n",
    "\n",
    "        # print progress every 10 batches\n",
    "        if batch_idx % 10 == 0:\n",
    "            print(f'Epoch [{epoch+1}/{num_epochs}] Batch [{batch_idx}/{len(train_loader)}] '\n",
    "                  f'Train Loss: {train_loss/(batch_idx+1):.6f}')\n",
    "\n",
    "    # calculate average training accuracy and loss for the epoch\n",
    "    train_loss /= len(train_loader.dataset)\n",
    "    train_acc = train_correct / len(train_loader.dataset)\n",
    "    print(f'Epoch [{epoch+1}/{num_epochs}] Training Loss: {train_loss:.6f}, Training Accuracy: {train_acc:.6f}')\n",
    "\n",
    "    # evaluate the model on the validation set\n",
    "    model.eval()\n",
    "    test_loss = 0\n",
    "    test_correct = 0\n",
    "\n",
    "    with torch.no_grad():\n",
    "        for batch_idx, (data, target) in enumerate(test_loader):\n",
    "            # move the data to the device (GPU or CPU)\n",
    "            data, target = data.to(device), target.to(device)\n",
    "\n",
    "            # forward pass\n",
    "            output = model(data)\n",
    "\n",
    "            # calculate the loss\n",
    "            loss = criterion(output, target)\n",
    "\n",
    "            # accumulate test accuracy and loss\n",
    "            test_loss += loss.item() * data.size(0)\n",
    "            _, predicted = output.max(1)\n",
    "            test_correct += predicted.eq(target).sum().item()\n",
    "\n",
    "    # calculate average test accuracy and loss for the epoch\n",
    "    test_loss /= len(test_loader.dataset)\n",
    "    test_acc = test_correct / len(test_loader.dataset)\n",
    "\n",
    "    # save the best model\n",
    "    if test_acc > best_acc:\n",
    "        best_acc = test_acc\n",
    "        torch.save(model.state_dict(), save_best_model)\n",
    "\n",
    "    # print the results for the epoch\n",
    "    print(f'Epoch [{epoch+1}/{num_epochs}] Test Loss: {test_loss:.6f}, Test Accuracy: {test_acc:.6f}')\n"
   ]
  },
  {
   "cell_type": "code",
   "execution_count": null,
   "metadata": {
    "id": "I4F-WLr-aFjS"
   },
   "outputs": [],
   "source": [
    "xmodel = VGG16(num_classes=27)\n",
    "optimizer = torch.optim.SGD(vgg.parameters(), lr=0.001)\n",
    "criterion = nn.CrossEntropyLoss()\n",
    "save_best_model = '/content/drive/MyDrive/SLC_Project/weights/bestVGG.pth'\n",
    "for epoch in range(100):\n",
    "    for images, labels in train_loader:\n",
    "        optimizer.zero_grad()\n",
    "        outputs = vgg(images)\n",
    "        loss = criterion(outputs, labels)\n",
    "        loss.backward()\n",
    "        optimizer.step()\n",
    "\n",
    "    # Evaluate the model on the test set\n",
    "    with torch.no_grad():\n",
    "        correct = 0\n",
    "        total = 0\n",
    "        for images, labels in test_loader:\n",
    "            outputs = vgg(images)\n",
    "            _, predicted = torch.max(outputs.data, 1)\n",
    "            total += labels.size(0)\n",
    "            correct += (predicted == labels).sum().item()\n",
    "\n",
    "\n",
    "\n",
    "        test_loss /= len(val_loader.dataset)\n",
    "        test_acc = test_correct / len(val_loader.dataset)\n",
    "        if test_acc > best_acc:\n",
    "          best_acc = test_acc\n",
    "          torch.save(model.state_dict(), save_best_model)\n",
    "\n",
    "        print('Epoch [{}/{}], Test Accuracy: {:.2f}%'\n",
    "              .format(epoch+1, 10, 100 * correct / total))"
   ]
  }
 ],
 "metadata": {
  "accelerator": "GPU",
  "colab": {
   "provenance": []
  },
  "gpuClass": "standard",
  "kernelspec": {
   "display_name": "Python 3 (ipykernel)",
   "language": "python",
   "name": "python3"
  },
  "language_info": {
   "codemirror_mode": {
    "name": "ipython",
    "version": 3
   },
   "file_extension": ".py",
   "mimetype": "text/x-python",
   "name": "python",
   "nbconvert_exporter": "python",
   "pygments_lexer": "ipython3",
   "version": "3.12.4"
  }
 },
 "nbformat": 4,
 "nbformat_minor": 4
}
